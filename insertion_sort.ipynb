{
 "cells": [
  {
   "cell_type": "markdown",
   "id": "574e546d-b85f-43af-a6e2-71062c40dc20",
   "metadata": {},
   "source": [
    "### Insertion Sort\n",
    "$ 0(N^2) $"
   ]
  },
  {
   "cell_type": "code",
   "execution_count": 2,
   "id": "d91e17c5-2531-4ab2-8eca-487a2d8f4ad9",
   "metadata": {},
   "outputs": [
    {
     "name": "stdout",
     "output_type": "stream",
     "text": [
      "before [1, 2, 5, 4, 3]\n",
      "after [1, 2, 3, 4, 5]\n"
     ]
    }
   ],
   "source": [
    "from auxiliary import create_nums_list\n",
    "\n",
    "def insertion_sort(list_to_sort):\n",
    "    for i in range(1, len(list_to_sort)):\n",
    "        j = i\n",
    "        while list_to_sort[j] < list_to_sort[j-1] and j > 0:\n",
    "            list_to_sort[j], list_to_sort[j-1] = list_to_sort[j-1], list_to_sort[j]\n",
    "            j -= 1\n",
    "\n",
    "print('before', to_sort)\n",
    "to_sort = create_nums_list(6)\n",
    "print('after', to_sort)"
   ]
  }
 ],
 "metadata": {
  "kernelspec": {
   "display_name": "Python 3 (ipykernel)",
   "language": "python",
   "name": "python3"
  },
  "language_info": {
   "codemirror_mode": {
    "name": "ipython",
    "version": 3
   },
   "file_extension": ".py",
   "mimetype": "text/x-python",
   "name": "python",
   "nbconvert_exporter": "python",
   "pygments_lexer": "ipython3",
   "version": "3.9.7"
  }
 },
 "nbformat": 4,
 "nbformat_minor": 5
}
