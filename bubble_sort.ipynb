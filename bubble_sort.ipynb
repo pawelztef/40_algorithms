{
 "cells": [
  {
   "cell_type": "markdown",
   "id": "66e5c806-76a3-4b9b-9ea4-38c584d3419e",
   "metadata": {},
   "source": [
    "### Bubble Sort\n",
    "$ 0(N^2) $"
   ]
  },
  {
   "cell_type": "code",
   "execution_count": 12,
   "id": "6d110a06-0483-4ba8-a6bc-44e736fdc0dd",
   "metadata": {},
   "outputs": [
    {
     "name": "stdout",
     "output_type": "stream",
     "text": [
      "before [4, 1, 6, 2, 3, 5]\n",
      "after [1, 2, 3, 4, 5, 6]\n"
     ]
    }
   ],
   "source": [
    "from auxiliary import create_nums_list\n",
    "\n",
    "def bubble_sort(list_to_sort):\n",
    "    last_elem_index = len(list_to_sort)-1\n",
    "\n",
    "    for pas_no in range(last_elem_index, 0, -1):\n",
    "        for idx in range(pas_no):\n",
    "            if list_to_sort[idx] > list_to_sort[idx+1]:\n",
    "                list_to_sort[idx], list_to_sort[idx+1] = list_to_sort[idx+1], list_to_sort[idx]\n",
    "\n",
    "                \n",
    "sort_list = create_nums_list(6)\n",
    "print('before', sort_list)\n",
    "bubble_sort(sort_list)\n",
    "print('after', sort_list)"
   ]
  }
 ],
 "metadata": {
  "kernelspec": {
   "display_name": "Python 3 (ipykernel)",
   "language": "python",
   "name": "python3"
  },
  "language_info": {
   "codemirror_mode": {
    "name": "ipython",
    "version": 3
   },
   "file_extension": ".py",
   "mimetype": "text/x-python",
   "name": "python",
   "nbconvert_exporter": "python",
   "pygments_lexer": "ipython3",
   "version": "3.9.7"
  }
 },
 "nbformat": 4,
 "nbformat_minor": 5
}
