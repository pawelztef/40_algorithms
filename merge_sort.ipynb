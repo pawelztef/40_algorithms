{
 "cells": [
  {
   "cell_type": "markdown",
   "id": "574e546d-b85f-43af-a6e2-71062c40dc20",
   "metadata": {},
   "source": [
    "### Merge Sort\n",
    "Created in 1940 by John von Neumann.\n",
    "Devide and conquer algorithm."
   ]
  },
  {
   "cell_type": "code",
   "execution_count": 37,
   "id": "d91e17c5-2531-4ab2-8eca-487a2d8f4ad9",
   "metadata": {},
   "outputs": [
    {
     "name": "stdout",
     "output_type": "stream",
     "text": [
      "before [11, 4, 6, 10, 7, 12, 2, 8, 13, 15, 5, 1, 3, 14, 9]\n",
      "after [1, 2, 3, 4, 5, 6, 7, 8, 9, 10, 11, 12, 13, 14, 15]\n"
     ]
    }
   ],
   "source": [
    "import random\n",
    "\n",
    "list_to_sort =  list(range(1, 16))\n",
    "random.shuffle(list_to_sort)\n",
    "\n",
    "print('before', list_to_sort)\n",
    "\n",
    "def merge_sort(list_to_sort):\n",
    "    # dividing \n",
    "    if len(list_to_sort) > 1:\n",
    "        left_arr = list_to_sort[:len(list_to_sort)//2] \n",
    "        right_arr = list_to_sort[len(list_to_sort)//2:]\n",
    "        \n",
    "        merge_sort(left_arr)\n",
    "        merge_sort(right_arr)\n",
    "\n",
    "    # merging\n",
    "        l = 0 # left index\n",
    "        r = 0 # right index\n",
    "        m = 0 # merged index\n",
    "\n",
    "        while l < len(left_arr) and r < len(right_arr):\n",
    "            if left_arr[l] < right_arr[r]:\n",
    "                list_to_sort[m] = left_arr[l]\n",
    "                l += 1\n",
    "            else:\n",
    "                list_to_sort[m] = right_arr[r]\n",
    "                r += 1\n",
    "                \n",
    "            m += 1    \n",
    "\n",
    "            \n",
    "        while l < len(left_arr):\n",
    "            list_to_sort[m] = left_arr[l]\n",
    "            l += 1\n",
    "            m += 1\n",
    "            \n",
    "        while r < len(right_arr):\n",
    "            list_to_sort[m] = right_arr[r]\n",
    "            r += 1\n",
    "            m += 1\n",
    "    \n",
    "merge_sort(list_to_sort)\n",
    "\n",
    "print('after', list_to_sort)"
   ]
  },
  {
   "cell_type": "markdown",
   "id": "3c06df32-ebf7-4ebe-92f9-dba5501f9653",
   "metadata": {},
   "source": [
    "###### References\n",
    "[Merge Sort Visualized and Recursion Explained YT](https://www.youtube.com/watch?v=cVZMah9kEjI)"
   ]
  }
 ],
 "metadata": {
  "kernelspec": {
   "display_name": "Python 3 (ipykernel)",
   "language": "python",
   "name": "python3"
  },
  "language_info": {
   "codemirror_mode": {
    "name": "ipython",
    "version": 3
   },
   "file_extension": ".py",
   "mimetype": "text/x-python",
   "name": "python",
   "nbconvert_exporter": "python",
   "pygments_lexer": "ipython3",
   "version": "3.9.7"
  }
 },
 "nbformat": 4,
 "nbformat_minor": 5
}
