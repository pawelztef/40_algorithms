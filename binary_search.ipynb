{
 "cells": [
  {
   "cell_type": "markdown",
   "id": "72498028-89a8-4a60-9aeb-81a4312649c0",
   "metadata": {},
   "source": [
    "### Binary search"
   ]
  },
  {
   "cell_type": "code",
   "execution_count": 9,
   "id": "bc95b63b-3990-46d2-9630-6a57a3dc621c",
   "metadata": {},
   "outputs": [
    {
     "name": "stdout",
     "output_type": "stream",
     "text": [
      "[1, 2, 3, 4, 5, 6]\n",
      "value to find: 5\n",
      "result: True\n",
      "value to find: 10\n",
      "result: False\n"
     ]
    }
   ],
   "source": [
    "from auxiliary import create_nums_list\n",
    "\n",
    "def binary_search(list_to_search, value):\n",
    "    found = False\n",
    "    first = 0\n",
    "    last = len(list_to_search) - 1\n",
    "\n",
    "    while first <= last and not found:\n",
    "        midpoint_index = (first + last) // 2\n",
    "        if list_to_search[midpoint_index] == value:\n",
    "            found = True\n",
    "        else:\n",
    "            if value < list_to_search[midpoint_index]:\n",
    "                last = midpoint_index\n",
    "            else:\n",
    "                first = midpoint_index + 1\n",
    "    return found\n",
    "\n",
    "\n",
    "to_search = create_nums_list(6)\n",
    "to_search.sort()\n",
    "value = 5\n",
    "\n",
    "print(to_search)\n",
    "print('value to find:', value)\n",
    "result = binary_search(to_search, value)\n",
    "print('result:', result)\n",
    "value = 10\n",
    "print('value to find:', value)\n",
    "result = binary_search(to_search, value)\n",
    "print('result:', result)"
   ]
  }
 ],
 "metadata": {
  "kernelspec": {
   "display_name": "Python 3 (ipykernel)",
   "language": "python",
   "name": "python3"
  },
  "language_info": {
   "codemirror_mode": {
    "name": "ipython",
    "version": 3
   },
   "file_extension": ".py",
   "mimetype": "text/x-python",
   "name": "python",
   "nbconvert_exporter": "python",
   "pygments_lexer": "ipython3",
   "version": "3.9.7"
  }
 },
 "nbformat": 4,
 "nbformat_minor": 5
}
