{
 "cells": [
  {
   "cell_type": "code",
   "execution_count": 56,
   "id": "fe484d4d-02ce-4039-acbc-2a49b180e1e2",
   "metadata": {},
   "outputs": [
    {
     "name": "stdout",
     "output_type": "stream",
     "text": [
      "search list: [7, 8, 4, 9, 5, 6, 2, 1, 3, 10]\n",
      "search value: 6\n",
      "result: True\n",
      "search value: 30\n",
      "result: False\n"
     ]
    }
   ],
   "source": [
    "from auxiliary import create_nums_list\n",
    "\n",
    "def linear_search(search_list, value):\n",
    "    index = 0\n",
    "    found = False\n",
    "\n",
    "    while index < len(search_list) and found is False:\n",
    "        if search_list[index] == value:\n",
    "            found = True\n",
    "        else:\n",
    "            index = index + 1\n",
    "    \n",
    "    return found\n",
    "\n",
    "search_list = create_nums_list(10)\n",
    "\n",
    "num_to_find = search_list[len(search_list)//2]\n",
    "print('search list:', search_list)\n",
    "print('search value:', num_to_find)\n",
    "result = linear_search(search_list, num_to_find)\n",
    "print('result:', result)\n",
    "\n",
    "num_to_find = 30\n",
    "print('search value:', num_to_find)\n",
    "result = linear_search(search_list, num_to_find)\n",
    "print('result:', result)"
   ]
  }
 ],
 "metadata": {
  "kernelspec": {
   "display_name": "Python 3 (ipykernel)",
   "language": "python",
   "name": "python3"
  },
  "language_info": {
   "codemirror_mode": {
    "name": "ipython",
    "version": 3
   },
   "file_extension": ".py",
   "mimetype": "text/x-python",
   "name": "python",
   "nbconvert_exporter": "python",
   "pygments_lexer": "ipython3",
   "version": "3.9.7"
  }
 },
 "nbformat": 4,
 "nbformat_minor": 5
}
