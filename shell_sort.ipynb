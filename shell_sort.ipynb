{
 "cells": [
  {
   "cell_type": "markdown",
   "id": "b74e11c4-047b-40e9-99f9-cf879cb4338a",
   "metadata": {},
   "source": [
    "### Shell sort"
   ]
  },
  {
   "cell_type": "code",
   "execution_count": 1,
   "id": "09a30b36-07e4-40e7-93ba-457f105cf57a",
   "metadata": {},
   "outputs": [
    {
     "name": "stdout",
     "output_type": "stream",
     "text": [
      "[5, 8, 6, 9, 1, 3, 7, 4, 10, 2]\n",
      "[1, 2, 3, 4, 5, 6, 7, 8, 9, 10]\n"
     ]
    }
   ],
   "source": [
    "from auxiliary import create_nums_list\n",
    "\n",
    "list_to_sort = create_nums_list(10)\n",
    "print(list_to_sort)\n",
    "\n",
    "\n",
    "distance = len(list_to_sort) // 2\n",
    "\n",
    "while distance > 0:\n",
    "    for i in range(distance, len(list_to_sort)):\n",
    "        temp = list_to_sort[i]\n",
    "        j = i\n",
    "       \n",
    "        # sort up to limit\n",
    "        while j >= distance and list_to_sort[j - distance] > temp:\n",
    "            list_to_sort[j] = list_to_sort[j - distance]\n",
    "            j = j - distance \n",
    "        \n",
    "        list_to_sort[j] = temp\n",
    "    \n",
    "    # lower limit value\n",
    "    distance = distance // 2\n",
    "\n",
    "print(list_to_sort)\n",
    "    \n"
   ]
  },
  {
   "cell_type": "code",
   "execution_count": null,
   "id": "cb041d4a-f6cc-4eb1-b075-17f96b6560d3",
   "metadata": {},
   "outputs": [],
   "source": []
  },
  {
   "cell_type": "code",
   "execution_count": null,
   "id": "1d81ef77-a79d-4459-89ea-42f084e4bba8",
   "metadata": {},
   "outputs": [],
   "source": []
  }
 ],
 "metadata": {
  "kernelspec": {
   "display_name": "Python 3 (ipykernel)",
   "language": "python",
   "name": "python3"
  },
  "language_info": {
   "codemirror_mode": {
    "name": "ipython",
    "version": 3
   },
   "file_extension": ".py",
   "mimetype": "text/x-python",
   "name": "python",
   "nbconvert_exporter": "python",
   "pygments_lexer": "ipython3",
   "version": "3.9.7"
  }
 },
 "nbformat": 4,
 "nbformat_minor": 5
}
