{
 "cells": [
  {
   "cell_type": "markdown",
   "id": "b74e11c4-047b-40e9-99f9-cf879cb4338a",
   "metadata": {},
   "source": [
    "### Shell sort"
   ]
  },
  {
   "cell_type": "code",
   "execution_count": 4,
   "id": "09a30b36-07e4-40e7-93ba-457f105cf57a",
   "metadata": {},
   "outputs": [
    {
     "name": "stdout",
     "output_type": "stream",
     "text": [
      "[5, 4, 3, 9, 2, 10, 6, 1, 8, 7]\n",
      "[1, 2, 3, 4, 5, 6, 7, 8, 9, 10]\n"
     ]
    }
   ],
   "source": [
    "from auxiliary import create_nums_list\n",
    "\n",
    "def shell_sort(list_to_sort):\n",
    "    distance = len(list_to_sort) // 2\n",
    "\n",
    "    while distance > 0:\n",
    "        for i in range(distance, len(list_to_sort)):\n",
    "            temp = list_to_sort[i]\n",
    "            j = i\n",
    "            \n",
    "            # sort up to limit\n",
    "            while j >= distance and list_to_sort[j - distance] > temp:\n",
    "                list_to_sort[j] = list_to_sort[j - distance]\n",
    "                j = j - distance \n",
    "\n",
    "            list_to_sort[j] = temp\n",
    "\n",
    "        # lower limit value\n",
    "        distance = distance // 2\n",
    "\n",
    "\n",
    "to_sort = create_nums_list(10)\n",
    "print(to_sort)\n",
    "shell_sort(to_sort)\n",
    "print(to_sort)\n",
    "    \n"
   ]
  }
 ],
 "metadata": {
  "kernelspec": {
   "display_name": "Python 3 (ipykernel)",
   "language": "python",
   "name": "python3"
  },
  "language_info": {
   "codemirror_mode": {
    "name": "ipython",
    "version": 3
   },
   "file_extension": ".py",
   "mimetype": "text/x-python",
   "name": "python",
   "nbconvert_exporter": "python",
   "pygments_lexer": "ipython3",
   "version": "3.9.7"
  }
 },
 "nbformat": 4,
 "nbformat_minor": 5
}
