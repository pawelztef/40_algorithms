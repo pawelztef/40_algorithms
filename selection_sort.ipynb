{
 "cells": [
  {
   "cell_type": "markdown",
   "id": "99dd68cd-cddd-4928-96a4-e75e59c1c0e0",
   "metadata": {},
   "source": [
    "### Selection Sort"
   ]
  },
  {
   "cell_type": "code",
   "execution_count": 13,
   "id": "0e4dcb64-5fb3-40cb-a47e-bedb53b3aad9",
   "metadata": {},
   "outputs": [
    {
     "name": "stdout",
     "output_type": "stream",
     "text": [
      "[4, 6, 2, 3, 1, 5]\n",
      "5\n",
      "6\n",
      "5\n",
      "6\n",
      "5\n",
      "1\n",
      "5\n",
      "2\n",
      "5\n",
      "3\n",
      "4\n",
      "3\n",
      "2\n",
      "3\n",
      "1\n",
      "[1, 2, 3, 4, 5, 6]\n"
     ]
    }
   ],
   "source": [
    "from auxiliary import create_nums_list\n",
    "\n",
    "list_to_sort = create_nums_list(6)\n",
    "print(list_to_sort)\n",
    "\n",
    "for fill_slot in range(len(list_to_sort)-1, 0, -1):\n",
    "    max_index = 0\n",
    "    for location in range(1, fill_slot +1):\n",
    "        if list_to_sort[location] > list_to_sort[max_index]:\n",
    "            max_index = location\n",
    "        \n",
    "        list_to_sort[fill_slot], list_to_sort[max_index] = list_to_sort[max_index], list_to_sort[fill_slot]\n",
    "        \n",
    "\n",
    "print(list_to_sort)\n",
    "            "
   ]
  },
  {
   "cell_type": "code",
   "execution_count": null,
   "id": "457ed286-491e-4a9f-839f-2eba6a61950d",
   "metadata": {},
   "outputs": [],
   "source": []
  }
 ],
 "metadata": {
  "kernelspec": {
   "display_name": "Python 3 (ipykernel)",
   "language": "python",
   "name": "python3"
  },
  "language_info": {
   "codemirror_mode": {
    "name": "ipython",
    "version": 3
   },
   "file_extension": ".py",
   "mimetype": "text/x-python",
   "name": "python",
   "nbconvert_exporter": "python",
   "pygments_lexer": "ipython3",
   "version": "3.9.7"
  }
 },
 "nbformat": 4,
 "nbformat_minor": 5
}
